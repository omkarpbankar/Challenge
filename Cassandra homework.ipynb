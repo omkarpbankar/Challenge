{
 "cells": [
  {
   "cell_type": "code",
   "execution_count": 1,
   "metadata": {},
   "outputs": [
    {
     "name": "stdout",
     "output_type": "stream",
     "text": [
      "3.25.0\n"
     ]
    }
   ],
   "source": [
    "import cassandra\n",
    "print(cassandra.__version__)"
   ]
  },
  {
   "cell_type": "code",
   "execution_count": 2,
   "metadata": {},
   "outputs": [
    {
     "name": "stdout",
     "output_type": "stream",
     "text": [
      "4.0.0.6813\n"
     ]
    }
   ],
   "source": [
    "from cassandra.cluster import Cluster\n",
    "from cassandra.auth import PlainTextAuthProvider\n",
    "\n",
    "cloud_config= {'secure_connect_bundle': 'D:\\\\iNeuron\\\\FSDS\\\\19.4 Cassandra\\\\secure-connect-test.zip'}\n",
    "auth_provider = PlainTextAuthProvider('DcFNgDqawcXQrcfvHlauFfqr', 'RZWf-NteEFDTysDDyzY07NZkszhoKKHr2p8XUwJCUZmDlBEiHHDH09CH7+QrO9ryCN6aLfpQ7dOp,NhuJhkftw782B9apwpMT9EZwncujEooERMKfwpDfGgpr1mS9CMI')\n",
    "cluster = Cluster(cloud=cloud_config, auth_provider=auth_provider)\n",
    "session = cluster.connect()\n",
    "\n",
    "row = session.execute(\"select release_version from system.local\").one()\n",
    "if row:\n",
    "    print(row[0])\n",
    "else:\n",
    "    print(\"An error occurred.\")"
   ]
  },
  {
   "cell_type": "markdown",
   "metadata": {},
   "source": [
    "# Selection of Keyspace"
   ]
  },
  {
   "cell_type": "code",
   "execution_count": 5,
   "metadata": {},
   "outputs": [],
   "source": [
    "row1 = session.execute(\"use ineuron\").one()"
   ]
  },
  {
   "cell_type": "markdown",
   "metadata": {},
   "source": [
    "# Creation of Table"
   ]
  },
  {
   "cell_type": "code",
   "execution_count": 6,
   "metadata": {},
   "outputs": [],
   "source": [
    "row1 = session.execute(\"create table Emp(EMP_ID TEXT PRIMARY KEY, EMP_NAME TEXT, EMP_ROLE TEXT, EMP_LEVEL INT);\")"
   ]
  },
  {
   "cell_type": "code",
   "execution_count": 7,
   "metadata": {},
   "outputs": [
    {
     "name": "stdout",
     "output_type": "stream",
     "text": [
      "<cassandra.cluster.ResultSet object at 0x000002822704A0A0>\n"
     ]
    }
   ],
   "source": [
    "print(row1)"
   ]
  },
  {
   "cell_type": "code",
   "execution_count": 11,
   "metadata": {},
   "outputs": [],
   "source": [
    "for i in row1 :\n",
    "    print(i[0])"
   ]
  },
  {
   "cell_type": "markdown",
   "metadata": {},
   "source": [
    "# Insertion of Values in the Table."
   ]
  },
  {
   "cell_type": "code",
   "execution_count": 10,
   "metadata": {},
   "outputs": [],
   "source": [
    "row2 = session.execute(\"insert into Emp(EMP_ID, EMP_NAME, EMP_ROLE, EMP_LEVEL) values ('1234','Shreevastav','SE',11);\")"
   ]
  },
  {
   "cell_type": "code",
   "execution_count": 12,
   "metadata": {},
   "outputs": [
    {
     "data": {
      "text/plain": [
       "<cassandra.cluster.ResultSet at 0x282270b8d60>"
      ]
     },
     "execution_count": 12,
     "metadata": {},
     "output_type": "execute_result"
    }
   ],
   "source": [
    "session.execute(\"insert into Emp(EMP_ID, EMP_NAME, EMP_ROLE, EMP_LEVEL) values ('1235','Shreevastav','SE',11);\")\n",
    "session.execute(\"insert into Emp(EMP_ID, EMP_NAME, EMP_ROLE, EMP_LEVEL) values ('1236','Ganesh','SSE',11);\")\n",
    "session.execute(\"insert into Emp(EMP_ID, EMP_NAME, EMP_ROLE, EMP_LEVEL) values ('1237','Vatsa','ASE',11);\")\n",
    "session.execute(\"insert into Emp(EMP_ID, EMP_NAME, EMP_ROLE, EMP_LEVEL) values ('1238','Shivraj','TL',11);\")\n",
    "session.execute(\"insert into Emp(EMP_ID, EMP_NAME, EMP_ROLE, EMP_LEVEL) values ('1239','Sandesh','AM',11);\")"
   ]
  },
  {
   "cell_type": "code",
   "execution_count": 13,
   "metadata": {},
   "outputs": [
    {
     "name": "stdout",
     "output_type": "stream",
     "text": [
      "Row(emp_id='1238', emp_level=11, emp_name='Shivraj', emp_role='TL')\n",
      "Row(emp_id='1234', emp_level=11, emp_name='Shreevastav', emp_role='SE')\n",
      "Row(emp_id='1235', emp_level=11, emp_name='Shreevastav', emp_role='SE')\n",
      "Row(emp_id='1237', emp_level=11, emp_name='Vatsa', emp_role='ASE')\n",
      "Row(emp_id='1236', emp_level=11, emp_name='Ganesh', emp_role='SSE')\n",
      "Row(emp_id='1239', emp_level=11, emp_name='Sandesh', emp_role='AM')\n"
     ]
    }
   ],
   "source": [
    "row3 = session.execute(\"select * from Emp;\")\n",
    "for i in row3:\n",
    "    print(i)"
   ]
  },
  {
   "cell_type": "markdown",
   "metadata": {},
   "source": [
    "# Get the number of rows present in the table."
   ]
  },
  {
   "cell_type": "code",
   "execution_count": 15,
   "metadata": {},
   "outputs": [
    {
     "name": "stdout",
     "output_type": "stream",
     "text": [
      "Row(count=6)\n"
     ]
    }
   ],
   "source": [
    "row4 = session.execute('select count (*) from Emp;')\n",
    "for i in row4:\n",
    "    print(i)"
   ]
  },
  {
   "cell_type": "markdown",
   "metadata": {},
   "source": [
    "# Alter the table "
   ]
  },
  {
   "cell_type": "code",
   "execution_count": 16,
   "metadata": {},
   "outputs": [],
   "source": [
    "row4 = session.execute('alter table Emp add Score TEXT;')\n",
    "for i in row4:\n",
    "    print(i)"
   ]
  },
  {
   "cell_type": "markdown",
   "metadata": {},
   "source": [
    "# Insertion of new values in the table."
   ]
  },
  {
   "cell_type": "code",
   "execution_count": 20,
   "metadata": {},
   "outputs": [
    {
     "data": {
      "text/plain": [
       "<cassandra.cluster.ResultSet at 0x28227019b50>"
      ]
     },
     "execution_count": 20,
     "metadata": {},
     "output_type": "execute_result"
    }
   ],
   "source": [
    "session.execute(\"insert into Emp(EMP_ID, EMP_NAME, EMP_ROLE, EMP_LEVEL,Score) values ('1235','Shreevastav','SE',11,'71');\")"
   ]
  },
  {
   "cell_type": "code",
   "execution_count": 21,
   "metadata": {},
   "outputs": [
    {
     "name": "stdout",
     "output_type": "stream",
     "text": [
      "Row(emp_id='1238', emp_level=11, emp_name='Shivraj', emp_role='TL', score=None)\n",
      "Row(emp_id='1234', emp_level=11, emp_name='Shreevastav', emp_role='SE', score=None)\n",
      "Row(emp_id='1235', emp_level=11, emp_name='Shreevastav', emp_role='SE', score='71')\n",
      "Row(emp_id='1237', emp_level=11, emp_name='Vatsa', emp_role='ASE', score=None)\n",
      "Row(emp_id='1236', emp_level=11, emp_name='Ganesh', emp_role='SSE', score=None)\n",
      "Row(emp_id='1239', emp_level=11, emp_name='Sandesh', emp_role='AM', score=None)\n"
     ]
    }
   ],
   "source": [
    "row3 = session.execute(\"select * from Emp;\")\n",
    "for i in row3:\n",
    "    print(i)"
   ]
  },
  {
   "cell_type": "code",
   "execution_count": 22,
   "metadata": {},
   "outputs": [
    {
     "data": {
      "text/plain": [
       "<cassandra.cluster.ResultSet at 0x28227156550>"
      ]
     },
     "execution_count": 22,
     "metadata": {},
     "output_type": "execute_result"
    }
   ],
   "source": [
    "session.execute(\"insert into Emp(EMP_ID, EMP_NAME, EMP_ROLE, EMP_LEVEL,Score) values ('1234','Shreevastav','SE',11,'81');\")\n",
    "session.execute(\"insert into Emp(EMP_ID, EMP_NAME, EMP_ROLE, EMP_LEVEL,Score) values ('1236','Ganesh','SSE',11,'78');\")\n",
    "session.execute(\"insert into Emp(EMP_ID, EMP_NAME, EMP_ROLE, EMP_LEVEL,Score) values ('1237','Vatsa','ASE',11,'62');\")\n",
    "session.execute(\"insert into Emp(EMP_ID, EMP_NAME, EMP_ROLE, EMP_LEVEL,Score) values ('1238','Shivraj','TL',11,'82');\")\n",
    "session.execute(\"insert into Emp(EMP_ID, EMP_NAME, EMP_ROLE, EMP_LEVEL,Score) values ('1239','Sandesh','AM',11,'80');\")"
   ]
  },
  {
   "cell_type": "code",
   "execution_count": 23,
   "metadata": {},
   "outputs": [
    {
     "name": "stdout",
     "output_type": "stream",
     "text": [
      "Row(emp_id='1238', emp_level=11, emp_name='Shivraj', emp_role='TL', score='82')\n",
      "Row(emp_id='1234', emp_level=11, emp_name='Shreevastav', emp_role='SE', score='81')\n",
      "Row(emp_id='1235', emp_level=11, emp_name='Shreevastav', emp_role='SE', score='71')\n",
      "Row(emp_id='1237', emp_level=11, emp_name='Vatsa', emp_role='ASE', score='62')\n",
      "Row(emp_id='1236', emp_level=11, emp_name='Ganesh', emp_role='SSE', score='78')\n",
      "Row(emp_id='1239', emp_level=11, emp_name='Sandesh', emp_role='AM', score='80')\n"
     ]
    }
   ],
   "source": [
    "row3 = session.execute(\"select * from Emp;\")\n",
    "for i in row3:\n",
    "    print(i)"
   ]
  },
  {
   "cell_type": "markdown",
   "metadata": {},
   "source": [
    "# Selection of Minimum Score."
   ]
  },
  {
   "cell_type": "code",
   "execution_count": 25,
   "metadata": {},
   "outputs": [
    {
     "name": "stdout",
     "output_type": "stream",
     "text": [
      "Row(system_min_score='62')\n"
     ]
    }
   ],
   "source": [
    "row4 = session.execute('select min(Score) from Emp')\n",
    "for i in row4:\n",
    "    print(i)"
   ]
  },
  {
   "cell_type": "markdown",
   "metadata": {},
   "source": [
    "# Selection of Name of the Employee with maximum score."
   ]
  },
  {
   "cell_type": "code",
   "execution_count": 28,
   "metadata": {},
   "outputs": [
    {
     "name": "stdout",
     "output_type": "stream",
     "text": [
      "Row(emp_name='Shivraj', system_max_score='82')\n"
     ]
    }
   ],
   "source": [
    "row4 = session.execute('select EMP_NAME, max(Score) from Emp')\n",
    "for i in row4:\n",
    "    print(i)"
   ]
  },
  {
   "cell_type": "markdown",
   "metadata": {},
   "source": [
    "# Add one more column named “Per Score” and add int valiues to t for all the entries."
   ]
  },
  {
   "cell_type": "code",
   "execution_count": 29,
   "metadata": {},
   "outputs": [],
   "source": [
    "row4 = session.execute('alter table Emp add Per_Score INT;')\n",
    "for i in row4:\n",
    "    print(i)"
   ]
  },
  {
   "cell_type": "code",
   "execution_count": 34,
   "metadata": {},
   "outputs": [
    {
     "data": {
      "text/plain": [
       "<cassandra.cluster.ResultSet at 0x28227178e80>"
      ]
     },
     "execution_count": 34,
     "metadata": {},
     "output_type": "execute_result"
    }
   ],
   "source": [
    "session.execute(\"insert into Emp(EMP_ID, EMP_NAME, EMP_ROLE, EMP_LEVEL,Score,Per_Score) values ('1234','Shreevastav','SE',11,'81',80);\")\n",
    "session.execute(\"insert into Emp(EMP_ID, EMP_NAME, EMP_ROLE, EMP_LEVEL,Score,Per_Score) values ('1235','Shreevastav','SE',11,'71',75);\") \n",
    "session.execute(\"insert into Emp(EMP_ID, EMP_NAME, EMP_ROLE, EMP_LEVEL,Score,Per_Score) values ('1236','Ganesh','SSE',10,'78',80);\")\n",
    "session.execute(\"insert into Emp(EMP_ID, EMP_NAME, EMP_ROLE, EMP_LEVEL,Score,Per_Score) values ('1237','Vatsa','ASE',12,'62',65);\")\n",
    "session.execute(\"insert into Emp(EMP_ID, EMP_NAME, EMP_ROLE, EMP_LEVEL,Score,Per_Score) values ('1238','Shivraj','TL',8,'82',85);\")\n",
    "session.execute(\"insert into Emp(EMP_ID, EMP_NAME, EMP_ROLE, EMP_LEVEL,Score,Per_Score) values ('1239','Sandesh','AM',7,'80',80);\")"
   ]
  },
  {
   "cell_type": "code",
   "execution_count": 35,
   "metadata": {},
   "outputs": [
    {
     "name": "stdout",
     "output_type": "stream",
     "text": [
      "Row(emp_id='1238', emp_level=8, emp_name='Shivraj', emp_role='TL', per_score=85, score='82')\n",
      "Row(emp_id='1234', emp_level=11, emp_name='Shreevastav', emp_role='SE', per_score=80, score='81')\n",
      "Row(emp_id='1235', emp_level=11, emp_name='Shreevastav', emp_role='SE', per_score=75, score='71')\n",
      "Row(emp_id='1237', emp_level=12, emp_name='Vatsa', emp_role='ASE', per_score=65, score='62')\n",
      "Row(emp_id='1236', emp_level=10, emp_name='Ganesh', emp_role='SSE', per_score=80, score='78')\n",
      "Row(emp_id='1239', emp_level=7, emp_name='Sandesh', emp_role='AM', per_score=80, score='80')\n"
     ]
    }
   ],
   "source": [
    "row3 = session.execute('select * from Emp;')\n",
    "for i in row3:\n",
    "    print(i)"
   ]
  },
  {
   "cell_type": "code",
   "execution_count": 32,
   "metadata": {},
   "outputs": [
    {
     "name": "stdout",
     "output_type": "stream",
     "text": [
      "Row(system_avg_per_score=77)\n"
     ]
    }
   ],
   "source": [
    "row4 = session.execute('select avg(Per_Score) from Emp;')\n",
    "for i in row4:\n",
    "    print(i)"
   ]
  },
  {
   "cell_type": "code",
   "execution_count": 36,
   "metadata": {},
   "outputs": [
    {
     "name": "stdout",
     "output_type": "stream",
     "text": [
      "Row(emp_id='1238', emp_level=8, emp_name='Shivraj', emp_role='TL', per_score=85, score='82')\n",
      "Row(emp_id='1234', emp_level=11, emp_name='Shreevastav', emp_role='SE', per_score=80, score='81')\n",
      "Row(emp_id='1235', emp_level=11, emp_name='Shreevastav', emp_role='SE', per_score=75, score='71')\n",
      "Row(emp_id='1237', emp_level=12, emp_name='Vatsa', emp_role='ASE', per_score=65, score='62')\n",
      "Row(emp_id='1236', emp_level=10, emp_name='Ganesh', emp_role='SSE', per_score=80, score='78')\n",
      "Row(emp_id='1239', emp_level=7, emp_name='Sandesh', emp_role='AM', per_score=80, score='80')\n"
     ]
    }
   ],
   "source": [
    "row3 = session.execute('select * from Emp;')\n",
    "for i in row3:\n",
    "    print(i)"
   ]
  },
  {
   "cell_type": "code",
   "execution_count": null,
   "metadata": {},
   "outputs": [],
   "source": []
  }
 ],
 "metadata": {
  "kernelspec": {
   "display_name": "Python 3",
   "language": "python",
   "name": "python3"
  },
  "language_info": {
   "codemirror_mode": {
    "name": "ipython",
    "version": 3
   },
   "file_extension": ".py",
   "mimetype": "text/x-python",
   "name": "python",
   "nbconvert_exporter": "python",
   "pygments_lexer": "ipython3",
   "version": "3.8.5"
  }
 },
 "nbformat": 4,
 "nbformat_minor": 4
}
