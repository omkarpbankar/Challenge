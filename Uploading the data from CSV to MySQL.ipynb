{
 "cells": [
  {
   "cell_type": "code",
   "execution_count": 1,
   "id": "9023aa5f",
   "metadata": {},
   "outputs": [],
   "source": [
    "import mysql.connector as connection\n",
    "import csv\n",
    "\n",
    "with open('carbon_nanotubes.csv') as csv_file:\n",
    "    csv_reader = csv.reader(csv_file, delimiter=';')\n",
    "    line_count = 0\n",
    "    data = []\n",
    "    for row in csv_reader:\n",
    "        if line_count == 0:\n",
    "            line_count += 1\n",
    "        else:\n",
    "            data.append(tuple(row))\n",
    "            line_count += 1"
   ]
  },
  {
   "cell_type": "code",
   "execution_count": 2,
   "id": "f3ed586e",
   "metadata": {},
   "outputs": [],
   "source": [
    "mydb = connection.connect(host=\"localhost\", user=\"root\", passwd=\"mysql\",use_pure=True)\n",
    "cur = mydb.cursor()\n",
    "cur.execute(\"CREATE DATABASE uci;\")"
   ]
  },
  {
   "cell_type": "code",
   "execution_count": 4,
   "id": "07acfb27",
   "metadata": {},
   "outputs": [],
   "source": [
    "qury=\"CREATE TABLE IF NOT EXISTS uci.carbon_nanotubes(Chiral_indice_n INT(5),Chiral_indice_m INT(5),Initial_atomic_coordinate_u nvarchar(15),Initial_atomic_coordinate_v nvarchar(15), Initial_atomic_coordinate_w nvarchar(15),Calculated_atomic_coordinate_u nvarchar(15),Calculated_atomic_coordinate_v nvarchar(15),Calculated_atomic_coordinate_w nvarchar(15));\"\n",
    "cur.execute(qury)"
   ]
  },
  {
   "cell_type": "code",
   "execution_count": 8,
   "id": "686ac3bb",
   "metadata": {},
   "outputs": [],
   "source": [
    "qry = \"\"\"INSERT INTO uci.carbon_nanotubes VALUES (%s,%s,%s,%s,%s,%s,%s)\"\"\"\n",
    "\n",
    "cur=mydb.cursor()"
   ]
  },
  {
   "cell_type": "code",
   "execution_count": 10,
   "id": "c8b27680",
   "metadata": {},
   "outputs": [
    {
     "name": "stdout",
     "output_type": "stream",
     "text": [
      "10721 Record inserted successfully into UCI2.carbon_nanotubes table\n"
     ]
    }
   ],
   "source": [
    "mySql_insert_query = \"\"\"INSERT INTO uci.carbon_nanotubes VALUES (%s, %s, %s, %s, %s, %s, %s, %s) \"\"\"\n",
    "\n",
    "records_to_insert = data\n",
    "\n",
    "cur = mydb.cursor()\n",
    "cur.executemany(mySql_insert_query, records_to_insert)\n",
    "mydb.commit()\n",
    "print(cur.rowcount, \"Record inserted successfully into UCI2.carbon_nanotubes table\")"
   ]
  },
  {
   "cell_type": "code",
   "execution_count": null,
   "id": "de052c7e",
   "metadata": {},
   "outputs": [],
   "source": []
  }
 ],
 "metadata": {
  "kernelspec": {
   "display_name": "Python 3",
   "language": "python",
   "name": "python3"
  },
  "language_info": {
   "codemirror_mode": {
    "name": "ipython",
    "version": 3
   },
   "file_extension": ".py",
   "mimetype": "text/x-python",
   "name": "python",
   "nbconvert_exporter": "python",
   "pygments_lexer": "ipython3",
   "version": "3.8.12"
  }
 },
 "nbformat": 4,
 "nbformat_minor": 5
}
